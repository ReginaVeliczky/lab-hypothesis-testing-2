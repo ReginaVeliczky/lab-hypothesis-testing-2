{
 "cells": [
  {
   "cell_type": "markdown",
   "metadata": {},
   "source": [
    "# Challenge 1 - T-test\n",
    "\n",
    "In statistics, t-test is used to test if two data samples have a significant difference between their means. There are two types of t-test:\n",
    "\n",
    "* **Student's t-test** (a.k.a. independent or uncorrelated t-test). This type of t-test is to compare the samples of **two independent populations** (e.g. test scores of students in two different classes). `scipy` provides the [`ttest_ind`](https://docs.scipy.org/doc/scipy-0.15.1/reference/generated/scipy.stats.ttest_ind.html) method to conduct student's t-test.\n",
    "\n",
    "* **Paired t-test** (a.k.a. dependent or correlated t-test). This type of t-test is to compare the samples of **the same population** (e.g. scores of different tests of students in the same class). `scipy` provides the [`ttest_re`](https://docs.scipy.org/doc/scipy-0.15.1/reference/generated/scipy.stats.ttest_rel.html) method to conduct paired t-test.\n",
    "\n",
    "Both types of t-tests return a number which is called the **p-value**. If p-value is below 0.05, we can confidently declare the null-hypothesis is rejected and the difference is significant. If p-value is between 0.05 and 0.1, we may also declare the null-hypothesis is rejected but we are not highly confident. If p-value is above 0.1 we do not reject the null-hypothesis.\n",
    "\n",
    "Read more about the t-test in [this article](http://b.link/test50) and [this Quora](http://b.link/unpaired97). Make sure you understand when to use which type of t-test. "
   ]
  },
  {
   "cell_type": "code",
   "execution_count": 17,
   "metadata": {},
   "outputs": [],
   "source": [
    "# Import libraries\n",
    "import pandas as pd\n",
    "from scipy.stats import ttest_ind\n",
    "from scipy.stats import ttest_rel"
   ]
  },
  {
   "cell_type": "markdown",
   "metadata": {},
   "source": [
    "#### Import dataset\n",
    "\n",
    "In this challenge we will work on the Pokemon dataset. The goal is to test whether different groups of pokemon (e.g. Legendary vs Normal, Generation 1 vs 2, single-type vs dual-type) have different stats (e.g. HP, Attack, Defense, etc.)."
   ]
  },
  {
   "cell_type": "code",
   "execution_count": 3,
   "metadata": {},
   "outputs": [],
   "source": [
    "data = pd.read_csv(\"C:/Users/User/OneDrive/Desktop/Ironhack/week 12/lab-hypothesis-testing-2/your-code/Pokemon.csv\")"
   ]
  },
  {
   "cell_type": "markdown",
   "metadata": {},
   "source": [
    "#### First we want to define a function with which we can test the means of a feature set of two samples. \n",
    "\n",
    "In the next cell you'll see the annotations of the Python function that explains what this function does and its arguments and returned value. This type of annotation is called **docstring** which is a convention used among Python developers. The docstring convention allows developers to write consistent tech documentations for their codes so that others can read. It also allows some websites to automatically parse the docstrings and display user-friendly documentations.\n",
    "\n",
    "Follow the specifications of the docstring and complete the function."
   ]
  },
  {
   "cell_type": "code",
   "execution_count": 10,
   "metadata": {},
   "outputs": [],
   "source": [
    "def t_test_features(s1, s2, features=['HP', 'Attack', 'Defense', 'Sp. Atk', 'Sp. Def', 'Speed', 'Total']):\n",
    "    \"\"\"Test means of a feature set of two samples\n",
    "    \n",
    "    Args:\n",
    "        s1 (dataframe): sample 1\n",
    "        s2 (dataframe): sample 2\n",
    "        features (list): an array of features to test\n",
    "    \n",
    "    Returns:\n",
    "        dict: a dictionary of t-test scores for each feature where the feature name is the key and the p-value is the value\n",
    "    \"\"\"\n",
    "    results = {}\n",
    "\n",
    "    for feature in features:\n",
    "        t_stat, p_value = ttest_ind(s1[feature], s2[feature], equal_var=False)\n",
    "        results[feature] = p_value\n",
    "    \n",
    "    return results"
   ]
  },
  {
   "cell_type": "markdown",
   "metadata": {},
   "source": [
    "#### Using the `t_test_features` function, conduct t-test for Lengendary vs non-Legendary pokemons.\n",
    "\n",
    "*Hint: your output should look like below:*\n",
    "\n",
    "```\n",
    "{'HP': 1.0026911708035284e-13,\n",
    " 'Attack': 2.520372449236646e-16,\n",
    " 'Defense': 4.8269984949193316e-11,\n",
    " 'Sp. Atk': 1.5514614112239812e-21,\n",
    " 'Sp. Def': 2.2949327864052826e-15,\n",
    " 'Speed': 1.049016311882451e-18,\n",
    " 'Total': 9.357954335957446e-47}\n",
    " ```"
   ]
  },
  {
   "cell_type": "code",
   "execution_count": 11,
   "metadata": {},
   "outputs": [
    {
     "name": "stdout",
     "output_type": "stream",
     "text": [
      "{'HP': 1.0026911708035284e-13, 'Attack': 2.520372449236646e-16, 'Defense': 4.8269984949193316e-11, 'Sp. Atk': 1.5514614112239812e-21, 'Sp. Def': 2.2949327864052826e-15, 'Speed': 1.049016311882451e-18, 'Total': 9.357954335957446e-47}\n"
     ]
    }
   ],
   "source": [
    "legendary_pokemon = data[data['Legendary'] == True]\n",
    "non_legendary_pokemon = data[data['Legendary'] == False]\n",
    "\n",
    "# Conduct t-test for Legendary vs non-Legendary Pokémon\n",
    "legendary_vs_non_legendary_results = t_test_features(legendary_pokemon, non_legendary_pokemon)\n",
    "\n",
    "print(legendary_vs_non_legendary_results)"
   ]
  },
  {
   "cell_type": "markdown",
   "metadata": {},
   "source": [
    "#### From the test results above, what conclusion can you make? Do Legendary and non-Legendary pokemons have significantly different stats on each feature?"
   ]
  },
  {
   "cell_type": "code",
   "execution_count": null,
   "metadata": {},
   "outputs": [],
   "source": [
    "#Legendary Pokémon have significantly different stats compared to non-Legendary Pokémons."
   ]
  },
  {
   "cell_type": "markdown",
   "metadata": {},
   "source": [
    "#### Next, conduct t-test for Generation 1 and Generation 2 pokemons."
   ]
  },
  {
   "cell_type": "code",
   "execution_count": 12,
   "metadata": {},
   "outputs": [
    {
     "name": "stdout",
     "output_type": "stream",
     "text": [
      "{'HP': 0.14551697834219623, 'Attack': 0.24721958967217725, 'Defense': 0.5677711011725426, 'Sp. Atk': 0.12332165977104388, 'Sp. Def': 0.18829872292645752, 'Speed': 0.00239265937312135, 'Total': 0.5631377907941676}\n"
     ]
    }
   ],
   "source": [
    "gen1 = data[data['Generation'] == 1]\n",
    "gen2 = data[data['Generation'] == 2]\n",
    "\n",
    "# Conduct t-test for Generation 1 vs Generation 2 Pokémon\n",
    "gen1_vs_gen2_results = t_test_features(gen1, gen2)\n",
    "\n",
    "print(gen1_vs_gen2_results)"
   ]
  },
  {
   "cell_type": "markdown",
   "metadata": {},
   "source": [
    "#### What conclusions can you make?"
   ]
  },
  {
   "cell_type": "code",
   "execution_count": 14,
   "metadata": {},
   "outputs": [],
   "source": [
    "# For most features the p-value is greater than 0.05, which indicates that there is no statistically \n",
    "# significant difference between Generation 1 and Generation 2 Pokémon.\n",
    "\n",
    "#The Speed feature has a p-value of 0.0024, which is less than 0.05.\n",
    "# This suggests that there is a significant difference in Speed between Generation 1 and Generation 2 Pokémon."
   ]
  },
  {
   "cell_type": "markdown",
   "metadata": {},
   "source": [
    "#### Compare pokemons who have single type vs those having two types."
   ]
  },
  {
   "cell_type": "code",
   "execution_count": 15,
   "metadata": {},
   "outputs": [
    {
     "name": "stdout",
     "output_type": "stream",
     "text": [
      "{'HP': 0.11314389855379414, 'Attack': 0.00014932578145948305, 'Defense': 2.7978540411514693e-08, 'Sp. Atk': 0.00013876216585667907, 'Sp. Def': 0.00010730610934512779, 'Speed': 0.02421703281819093, 'Total': 1.1157056505229961e-07}\n"
     ]
    }
   ],
   "source": [
    "single_type = data[data['Type 2'].isnull()]\n",
    "dual_type = data[data['Type 2'].notnull()]\n",
    "\n",
    "# Conduct t-test for single type vs dual type Pokémon\n",
    "single_vs_dual_type_results = t_test_features(single_type, dual_type)\n",
    "\n",
    "print(single_vs_dual_type_results)"
   ]
  },
  {
   "cell_type": "markdown",
   "metadata": {},
   "source": [
    "#### What conclusions can you make?"
   ]
  },
  {
   "cell_type": "code",
   "execution_count": null,
   "metadata": {},
   "outputs": [],
   "source": [
    "# Dual-type Pokémon have significantly different stats in most categories (Attack, Defense, Sp. Atk, Sp. Def, Speed, and Total)\n",
    "# The only feature where there isn't a significant difference is HP."
   ]
  },
  {
   "cell_type": "markdown",
   "metadata": {},
   "source": [
    "#### Now, we want to compare whether there are significant differences of `Attack` vs `Defense`  and  `Sp. Atk` vs `Sp. Def` of all pokemons. Please write your code below.\n",
    "\n",
    "*Hint: are you comparing different populations or the same population?*"
   ]
  },
  {
   "cell_type": "code",
   "execution_count": 18,
   "metadata": {},
   "outputs": [
    {
     "name": "stdout",
     "output_type": "stream",
     "text": [
      "P-value for Attack vs Defense: 1.7140303479358558e-05\n",
      "P-value for Sp. Atk vs Sp. Def: 0.3933685997548122\n"
     ]
    }
   ],
   "source": [
    "# paired t-test because the comparisons are within the same group of Pokémon\n",
    "\n",
    "attack_vs_defense_p_value = ttest_rel(data['Attack'], data['Defense']).pvalue\n",
    "\n",
    "# Paired t-test for Sp. Atk vs Sp. Def\n",
    "sp_atk_vs_sp_def_p_value = ttest_rel(data['Sp. Atk'], data['Sp. Def']).pvalue\n",
    "\n",
    "\n",
    "print(\"P-value for Attack vs Defense:\", attack_vs_defense_p_value)\n",
    "print(\"P-value for Sp. Atk vs Sp. Def:\", sp_atk_vs_sp_def_p_value)\n"
   ]
  },
  {
   "cell_type": "markdown",
   "metadata": {},
   "source": [
    "#### What conclusions can you make?"
   ]
  },
  {
   "cell_type": "code",
   "execution_count": 19,
   "metadata": {},
   "outputs": [],
   "source": [
    "# Attack vs Defense:The p-value is significantly lower than 0.05, the Attack and Defense values for Pokémon are different.\n",
    "# Sp. Atk vs Sp. Def:The p-value is greater than 0.05,the Special Attack and Special Defense values are similar."
   ]
  }
 ],
 "metadata": {
  "kernelspec": {
   "display_name": "Python 3 (ipykernel)",
   "language": "python",
   "name": "python3"
  },
  "language_info": {
   "codemirror_mode": {
    "name": "ipython",
    "version": 3
   },
   "file_extension": ".py",
   "mimetype": "text/x-python",
   "name": "python",
   "nbconvert_exporter": "python",
   "pygments_lexer": "ipython3",
   "version": "3.11.7"
  }
 },
 "nbformat": 4,
 "nbformat_minor": 2
}
